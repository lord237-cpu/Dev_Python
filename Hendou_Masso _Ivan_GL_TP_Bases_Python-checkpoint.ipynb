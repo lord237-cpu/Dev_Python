{
 "cells": [
  {
   "cell_type": "code",
   "execution_count": 9,
   "id": "10f627f7-75a7-425c-8817-bd0e0df40d96",
   "metadata": {},
   "outputs": [
    {
     "name": "stdin",
     "output_type": "stream",
     "text": [
      "Entrez votre nom t\n"
     ]
    },
    {
     "name": "stdout",
     "output_type": "stream",
     "text": [
      "Soyez le ou la bienvenue: t\n"
     ]
    }
   ],
   "source": [
    "# Exercice 1 :\n",
    "\n",
    "x = str (input(\"Entrez votre nom\"))\n",
    "\n",
    "print(\"Soyez le ou la bienvenue :\",x)"
   ]
  },
  {
   "cell_type": "code",
   "execution_count": 11,
   "id": "5e1c6f01-ee0f-4a1f-9c72-9dba7f8b0f50",
   "metadata": {},
   "outputs": [
    {
     "name": "stdin",
     "output_type": "stream",
     "text": [
      "Entrez la première valeur 8\n",
      "Entrez la deuxième valeur 5\n"
     ]
    },
    {
     "name": "stdout",
     "output_type": "stream",
     "text": [
      "La somme des valeurs est : 13\n"
     ]
    }
   ],
   "source": [
    "# Exercice 2 :\n",
    "\n",
    "a = int (input(\"Entrez la première valeur\"))\n",
    "b = int (input(\"Entrez la deuxième valeur\"))\n",
    "\n",
    "S = x + y\n",
    "\n",
    "print(\"La somme des valeurs est :\", S)"
   ]
  },
  {
   "cell_type": "code",
   "execution_count": 17,
   "id": "3c46fe5a-c810-448c-bdc9-e4fc3a3ee23c",
   "metadata": {},
   "outputs": [
    {
     "name": "stdin",
     "output_type": "stream",
     "text": [
      "Entrez la première valeur 5\n",
      "Entrez la deuxième valeur 9\n"
     ]
    },
    {
     "name": "stdout",
     "output_type": "stream",
     "text": [
      "Le maximum est : 9\n"
     ]
    }
   ],
   "source": [
    "# Exercice 3\n",
    "\n",
    "a = int (input(\"Entrez la première valeur\"))\n",
    "b = int (input(\"Entrez la deuxième valeur\"))\n",
    "\n",
    "if a > b :\n",
    "    print(\"Le maximum est :\", a)\n",
    "else :\n",
    "    print(\"Le maximum est :\", b)\n",
    "\n"
   ]
  },
  {
   "cell_type": "code",
   "execution_count": null,
   "id": "859aeb41-776c-49b2-a05f-82ca9e5ff8e0",
   "metadata": {},
   "outputs": [],
   "source": [
    "# Exercice 4\n",
    "\n",
    "i = 0\n",
    "for i in range (100) :\n",
    "    print(i)"
   ]
  },
  {
   "cell_type": "code",
   "execution_count": 35,
   "id": "0a95263d-8402-40f6-a0d1-21e286249107",
   "metadata": {},
   "outputs": [
    {
     "name": "stdin",
     "output_type": "stream",
     "text": [
      "Entrez un nombre entier 5\n"
     ]
    },
    {
     "name": "stdout",
     "output_type": "stream",
     "text": [
      "Votre nombre est impair\n"
     ]
    }
   ],
   "source": [
    "# Exercice 5\n",
    "\n",
    "a = int (input(\"Entrez un nombre entier\"))\n",
    "\n",
    "if a % 2 == 0 :\n",
    "    print(\"Votre nombre est pair\")\n",
    "else :\n",
    "    print(\"Votre nombre est impair\")\n",
    "    "
   ]
  },
  {
   "cell_type": "code",
   "execution_count": 37,
   "id": "8cd745dd-ce8c-44af-86ff-2959831c1765",
   "metadata": {},
   "outputs": [
    {
     "name": "stdin",
     "output_type": "stream",
     "text": [
      "Entrez votre age 17\n"
     ]
    },
    {
     "name": "stdout",
     "output_type": "stream",
     "text": [
      "Vous êtes mineur(e)\n"
     ]
    }
   ],
   "source": [
    "# Exercice 6\n",
    "\n",
    "age = int (input(\"Entrez votre age\"))\n",
    "\n",
    "if age >= 18 :\n",
    "    print(\"Vous êtes majeur(e)\")\n",
    "else :\n",
    "    print(\"Vous êtes mineur(e)\")"
   ]
  },
  {
   "cell_type": "code",
   "execution_count": 61,
   "id": "3514b001-bfdb-43c0-b716-6fa1f2430d9d",
   "metadata": {},
   "outputs": [
    {
     "name": "stdin",
     "output_type": "stream",
     "text": [
      "Entrez le premier nombre  5\n",
      "Entrez le deuxième nombre  12\n",
      "Entrez le troisième nombre  9\n"
     ]
    },
    {
     "name": "stdout",
     "output_type": "stream",
     "text": [
      "Le maximum est : 12.0\n"
     ]
    }
   ],
   "source": [
    "# Exercice 7\n",
    "\n",
    "x = float(input(\"Entrez le premier nombre \"))\n",
    "y = float(input(\"Entrez le deuxième nombre \"))\n",
    "z = float(input(\"Entrez le troisième nombre \"))\n",
    "\n",
    "if x > y and x > z:\n",
    "    print(\"Le maximum est :\", x)\n",
    "elif y > x and y > z:\n",
    "    print(\"Le maximum est :\", y)\n",
    "else:\n",
    "    print(\"Le maximum est :\", z)\n"
   ]
  },
  {
   "cell_type": "code",
   "execution_count": 79,
   "id": "4ebd76cf-8fc1-4683-b1f6-c8c7e2764d83",
   "metadata": {},
   "outputs": [
    {
     "name": "stdin",
     "output_type": "stream",
     "text": [
      "Entrez un nombre entier 5\n"
     ]
    },
    {
     "name": "stdout",
     "output_type": "stream",
     "text": [
      "La somme des nombres jusqu'à 5 est : 15\n"
     ]
    }
   ],
   "source": [
    "# Exercice 8\n",
    "\n",
    "i = 0\n",
    "S = 0\n",
    "x = int (input(\"Entrez un nombre entier\"))\n",
    "\n",
    "for i in range (i, x + 1) :\n",
    "    S = S + i\n",
    "print(\"La somme des nombres jusqu'à\",x,\"est :\", S)\n"
   ]
  },
  {
   "cell_type": "code",
   "execution_count": 1,
   "id": "608f53f4-3456-431d-b08c-78b6a0b83acc",
   "metadata": {},
   "outputs": [
    {
     "name": "stdin",
     "output_type": "stream",
     "text": [
      "Entrez un nombre entier pour calculer son factoriel :  7\n"
     ]
    },
    {
     "name": "stdout",
     "output_type": "stream",
     "text": [
      "Le factoriel de 7 est 5040\n"
     ]
    }
   ],
   "source": [
    "# Exercice 9\n",
    "\n",
    "n = int(input(\"Entrez un nombre entier pour calculer son factoriel : \"))\n",
    "\n",
    "factoriel = 1\n",
    "\n",
    "# Vérifier si n est un nombre entier positif\n",
    "if n < 0:\n",
    "    print(\"Le factoriel n'est pas défini pour les nombres négatifs.\")\n",
    "else:\n",
    "    for i in range(1, n + 1):\n",
    "        factoriel *= i\n",
    "\n",
    "    # Afficher le résultat\n",
    "    print(f\"Le factoriel de {n} est {factoriel}\")\n",
    "\n"
   ]
  },
  {
   "cell_type": "code",
   "execution_count": 3,
   "id": "27db160f-d60c-416d-9a3d-ea13b954480c",
   "metadata": {},
   "outputs": [
    {
     "name": "stdin",
     "output_type": "stream",
     "text": [
      "Entrez le rayon du cercle :  4\n"
     ]
    },
    {
     "name": "stdout",
     "output_type": "stream",
     "text": [
      "La surface du cercle est : 50.26548245743669\n",
      "Le périmètre du cercle est : 25.132741228718345\n"
     ]
    }
   ],
   "source": [
    "# Exercice 10\n",
    "\n",
    "import math\n",
    "\n",
    "rayon = float(input(\"Entrez le rayon du cercle : \"))\n",
    "\n",
    "# Calculer la surface et le périmètre\n",
    "surface = math.pi * rayon ** 2\n",
    "perimetre = 2 * math.pi * rayon\n",
    "\n",
    "# Afficher les résultats\n",
    "print(f\"La surface du cercle est : {surface}\")\n",
    "print(f\"Le périmètre du cercle est : {perimetre}\")\n"
   ]
  },
  {
   "cell_type": "code",
   "execution_count": 5,
   "id": "eddf3d12-fa1f-4b61-8a6c-0ad1f3ab569a",
   "metadata": {},
   "outputs": [
    {
     "name": "stdin",
     "output_type": "stream",
     "text": [
      "Entrez un nombre entier :  5\n"
     ]
    },
    {
     "name": "stdout",
     "output_type": "stream",
     "text": [
      "Les diviseurs de 5 sont :\n",
      "1\n",
      "5\n"
     ]
    }
   ],
   "source": [
    "# Exercice 11\n",
    "\n",
    "nombre = int(input(\"Entrez un nombre entier : \"))\n",
    "\n",
    "# Trouver et afficher les diviseurs\n",
    "print(f\"Les diviseurs de {nombre} sont :\")\n",
    "for i in range(1, nombre + 1):\n",
    "    if nombre % i == 0:\n",
    "        print(i)\n"
   ]
  },
  {
   "cell_type": "code",
   "execution_count": 7,
   "id": "cfaa08f4-e023-485a-8281-46ff1e9e8b38",
   "metadata": {},
   "outputs": [
    {
     "name": "stdin",
     "output_type": "stream",
     "text": [
      "Entrez un nombre entier pour afficher sa table de multiplication :  7\n"
     ]
    },
    {
     "name": "stdout",
     "output_type": "stream",
     "text": [
      "Table de multiplication de 7 :\n",
      "7 x 1 = 7\n",
      "7 x 2 = 14\n",
      "7 x 3 = 21\n",
      "7 x 4 = 28\n",
      "7 x 5 = 35\n",
      "7 x 6 = 42\n",
      "7 x 7 = 49\n",
      "7 x 8 = 56\n",
      "7 x 9 = 63\n",
      "7 x 10 = 70\n"
     ]
    }
   ],
   "source": [
    "# Exercice 12\n",
    "\n",
    "nombre = int(input(\"Entrez un nombre entier pour afficher sa table de multiplication : \"))\n",
    "\n",
    "# Afficher la table de multiplication\n",
    "print(f\"Table de multiplication de {nombre} :\")\n",
    "for i in range(1, 11):\n",
    "    resultat = nombre * i\n",
    "    print(f\"{nombre} x {i} = {resultat}\")\n"
   ]
  },
  {
   "cell_type": "code",
   "execution_count": 9,
   "id": "092a92cf-648f-4830-b738-42bd97358f23",
   "metadata": {},
   "outputs": [
    {
     "name": "stdin",
     "output_type": "stream",
     "text": [
      "Entrez le premier nombre entier (a) :  4\n",
      "Entrez le deuxième nombre entier (b) :  7\n"
     ]
    },
    {
     "name": "stdout",
     "output_type": "stream",
     "text": [
      "Le quotient de la division euclidienne de 4 par 7 est : 0\n",
      "Le reste de la division euclidienne de 4 par 7 est : 4\n"
     ]
    }
   ],
   "source": [
    "# Exercice 13\n",
    "\n",
    "\n",
    "a = int(input(\"Entrez le premier nombre entier (a) : \"))\n",
    "b = int(input(\"Entrez le deuxième nombre entier (b) : \"))\n",
    "\n",
    "\n",
    "if b != 0:\n",
    "    quotient = a // b   # Division entière pour obtenir le quotient\n",
    "    reste = a % b       # Opérateur modulo pour obtenir le reste\n",
    "\n",
    "    # Afficher le quotient et le reste\n",
    "    print(f\"Le quotient de la division euclidienne de {a} par {b} est : {quotient}\")\n",
    "    print(f\"Le reste de la division euclidienne de {a} par {b} est : {reste}\")\n",
    "else:\n",
    "    print(\"Erreur : La division par zéro n'est pas définie.\")\n"
   ]
  },
  {
   "cell_type": "code",
   "execution_count": 13,
   "id": "8d4a9ddd-8621-496c-b489-5150cffd5b39",
   "metadata": {},
   "outputs": [
    {
     "name": "stdin",
     "output_type": "stream",
     "text": [
      "Entrez un nombre entier :  5\n"
     ]
    },
    {
     "name": "stdout",
     "output_type": "stream",
     "text": [
      "5 n'est pas un carré parfait.\n"
     ]
    }
   ],
   "source": [
    "# Exercice 14\n",
    "\n",
    "import math\n",
    "\n",
    "nombre = int(input(\"Entrez un nombre entier : \"))\n",
    "\n",
    "# Calculer la racine carrée entière du nombre\n",
    "racine_carre = math.isqrt(nombre)\n",
    "\n",
    "# Vérifier si le carré de racine_carre est égal à nombre\n",
    "if racine_carre ** 2 == nombre:\n",
    "    print(f\"{nombre} est un carré parfait.\")\n",
    "else:\n",
    "    print(f\"{nombre} n'est pas un carré parfait.\")\n"
   ]
  },
  {
   "cell_type": "code",
   "execution_count": 15,
   "id": "f4bc4d52-1f18-490b-b7be-a649227747a7",
   "metadata": {},
   "outputs": [
    {
     "name": "stdin",
     "output_type": "stream",
     "text": [
      "Entrez un nombre entier :  3\n"
     ]
    },
    {
     "name": "stdout",
     "output_type": "stream",
     "text": [
      "3 est un nombre premier.\n"
     ]
    }
   ],
   "source": [
    "# Exercice 15\n",
    "\n",
    "\n",
    "nombre = int(input(\"Entrez un nombre entier : \"))\n",
    "\n",
    "# Vérifier si le nombre est premier\n",
    "if nombre <= 1:\n",
    "    print(f\"{nombre} n'est pas un nombre premier.\")\n",
    "else:\n",
    "    est_premier = True\n",
    "    for i in range(2, int(nombre ** 0.5) + 1):\n",
    "        if nombre % i == 0:\n",
    "            est_premier = False\n",
    "            break\n",
    "\n",
    "    if est_premier:\n",
    "        print(f\"{nombre} est un nombre premier.\")\n",
    "    else:\n",
    "        print(f\"{nombre} n'est pas un nombre premier.\")\n"
   ]
  },
  {
   "cell_type": "code",
   "execution_count": 17,
   "id": "72f96e2b-93d2-40ce-9293-a560f5e4276e",
   "metadata": {},
   "outputs": [
    {
     "name": "stdin",
     "output_type": "stream",
     "text": [
      "Entrez votre mot ou phrase medine\n"
     ]
    },
    {
     "name": "stdout",
     "output_type": "stream",
     "text": [
      "m\n",
      "e\n",
      "d\n",
      "i\n",
      "n\n",
      "e\n"
     ]
    }
   ],
   "source": [
    "# Exercice 16\n",
    "\n",
    "Texte = str(input(\"Entrez votre mot ou phrase :\"))\n",
    "\n",
    "for lettre in Texte :\n",
    "    print(lettre)"
   ]
  },
  {
   "cell_type": "code",
   "execution_count": 21,
   "id": "b4cfa460-b3a1-469b-b961-7af66e2a43ad",
   "metadata": {},
   "outputs": [
    {
     "name": "stdin",
     "output_type": "stream",
     "text": [
      "Entrez une chaîne de caractères :  venteenligne\n"
     ]
    },
    {
     "name": "stdout",
     "output_type": "stream",
     "text": [
      "Occurrences de chaque caractère dans la chaîne 'venteenligne':\n",
      "Le caractère \"v\" figure 1 fois\n",
      "Le caractère \"e\" figure 4 fois\n",
      "Le caractère \"n\" figure 3 fois\n",
      "Le caractère \"t\" figure 1 fois\n",
      "Le caractère \"l\" figure 1 fois\n",
      "Le caractère \"i\" figure 1 fois\n",
      "Le caractère \"g\" figure 1 fois\n"
     ]
    }
   ],
   "source": [
    "# Exercice 17\n",
    "\n",
    "\n",
    "chaine = input(\"Entrez une chaîne de caractères : \")\n",
    "\n",
    "# Créer un dictionnaire pour stocker le nombre d'occurrences de chaque caractère\n",
    "occurrences = {}\n",
    "\n",
    "# Parcourir chaque caractère de la chaîne\n",
    "for caractere in chaine:\n",
    "    # Incrémenter le compteur pour chaque caractère dans le dictionnaire\n",
    "    if caractere in occurrences:\n",
    "        occurrences[caractere] += 1\n",
    "    else:\n",
    "        occurrences[caractere] = 1\n",
    "\n",
    "# Afficher le nombre d'occurrences pour chaque caractère\n",
    "print(f\"Occurrences de chaque caractère dans la chaîne '{chaine}':\")\n",
    "for caractere, nombre in occurrences.items():\n",
    "    print(f'Le caractère \"{caractere}\" figure {nombre} fois')\n"
   ]
  },
  {
   "cell_type": "code",
   "execution_count": 27,
   "id": "8b652648-1374-477f-bf78-da6e64dc28fd",
   "metadata": {},
   "outputs": [
    {
     "name": "stdin",
     "output_type": "stream",
     "text": [
      "Entrez une chaîne de caractères :  ananas\n"
     ]
    },
    {
     "name": "stdout",
     "output_type": "stream",
     "text": [
      "La lettre 'a' se trouve à la position : 0\n",
      "La lettre 'a' se trouve à la position : 2\n",
      "La lettre 'a' se trouve à la position : 4\n"
     ]
    }
   ],
   "source": [
    "# Exercice 18\n",
    "\n",
    "\n",
    "chaine = input(\"Entrez une chaîne de caractères : \")\n",
    "\n",
    "# Trouver toutes les positions de la lettre 'a'\n",
    "positions = []\n",
    "\n",
    "for i in range(len(chaine)):\n",
    "    if chaine[i] == 'a':\n",
    "        positions.append(i)\n",
    "\n",
    "# Afficher les positions si des lettres 'a' sont trouvées\n",
    "if positions:\n",
    "    for position in positions:\n",
    "        print(f\"La lettre 'a' se trouve à la position : {position}\")\n",
    "else:\n",
    "    print(\"La lettre 'a' ne se trouve pas dans la chaîne.\")\n"
   ]
  },
  {
   "cell_type": "code",
   "execution_count": 1,
   "id": "684c7cb2-2cbf-4527-835c-bb11131be919",
   "metadata": {},
   "outputs": [
    {
     "name": "stdout",
     "output_type": "stream",
     "text": [
      "La chaîne 'laptop' a une longueur de 6 caractères.\n",
      "La chaîne 'iphone' a une longueur de 6 caractères.\n",
      "La chaîne 'tablet' a une longueur de 6 caractères.\n"
     ]
    }
   ],
   "source": [
    "# Exercie 19\n",
    "\n",
    "l = [\"laptop\", \"iphone\", \"tablet\"]\n",
    "\n",
    "# Parcourir chaque chaîne dans la liste et afficher sa longueur\n",
    "for chaine in l:\n",
    "    longueur = len(chaine)\n",
    "    print(f\"La chaîne '{chaine}' a une longueur de {longueur} caractères.\")\n"
   ]
  },
  {
   "cell_type": "code",
   "execution_count": 3,
   "id": "b3289dd3-39ed-4dfd-93a1-1bed9f05fb05",
   "metadata": {},
   "outputs": [
    {
     "name": "stdin",
     "output_type": "stream",
     "text": [
      "Entrez une chaîne de caractères :  bonne\n"
     ]
    },
    {
     "name": "stdout",
     "output_type": "stream",
     "text": [
      "La nouvelle chaîne est : eonnb\n"
     ]
    }
   ],
   "source": [
    "# Exercice 20\n",
    "\n",
    "\n",
    "chaine = input(\"Entrez une chaîne de caractères : \")\n",
    "\n",
    "# Vérifier que la chaîne a au moins deux caractères pour pouvoir échanger le premier et le dernier\n",
    "if len(chaine) > 1:\n",
    "    # Créer la nouvelle chaîne en échangeant le premier et le dernier caractère\n",
    "    nouvelle_chaine = chaine[-1] + chaine[1:-1] + chaine[0]\n",
    "    print(\"La nouvelle chaîne est :\", nouvelle_chaine)\n",
    "else:\n",
    "    print(\"La chaîne doit avoir au moins deux caractères pour échanger le premier et le dernier.\")\n"
   ]
  },
  {
   "cell_type": "code",
   "execution_count": null,
   "id": "0cadf5eb-3f69-417f-b86a-53376a2c80aa",
   "metadata": {},
   "outputs": [],
   "source": [
    "# Exercice 21\n",
    "\n",
    "chaine = input(\"Entrez une chaîne de caractères : \")\n",
    "\n",
    "# Définir les voyelles\n",
    "voyelles = \"aeiouyAEIOUY\"\n",
    "\n",
    "# Compter les voyelles dans la chaîne\n",
    "compteur_voyelles = 0\n",
    "for caractere in chaine:\n",
    "    if caractere in voyelles:\n",
    "        compteur_voyelles += 1\n",
    "\n",
    "\n",
    "print(f\"La chaîne '{chaine}' possède {compteur_voyelles} voyelles.\")\n"
   ]
  },
  {
   "cell_type": "code",
   "execution_count": 5,
   "id": "a4b9f8e1-4639-4948-ab4d-d704b003a2a8",
   "metadata": {},
   "outputs": [
    {
     "name": "stdin",
     "output_type": "stream",
     "text": [
      "Entrez un texte :  Bien évidemment que je suis en train de faire des recherches sur le plan. d'action \n"
     ]
    },
    {
     "name": "stdout",
     "output_type": "stream",
     "text": [
      "Le premier mot du texte est : Bien\n"
     ]
    }
   ],
   "source": [
    "# Exercice 22\n",
    "\n",
    "\n",
    "texte = input(\"Entrez un texte : \")\n",
    "\n",
    "# Extraire le premier mot\n",
    "premier_mot = texte.split()[0]\n",
    "\n",
    "print(f\"Le premier mot du texte est : {premier_mot}\")\n"
   ]
  },
  {
   "cell_type": "code",
   "execution_count": 9,
   "id": "a8ad011c-415b-4a48-a6c0-cdc261482d0b",
   "metadata": {},
   "outputs": [
    {
     "name": "stdin",
     "output_type": "stream",
     "text": [
      "Entrez le nom du fichier :  devoir.py\n"
     ]
    },
    {
     "name": "stdout",
     "output_type": "stream",
     "text": [
      "L'extension du fichier est : py\n"
     ]
    }
   ],
   "source": [
    "# Exercice 23\n",
    "\n",
    "\n",
    "nom_fichier = input(\"Entrez le nom du fichier : \")\n",
    "\n",
    "# Trouver l'extension du fichier\n",
    "extension = nom_fichier.split('.')[-1] if '.' in nom_fichier else \"Aucune extension\"\n",
    "\n",
    "print(f\"L'extension du fichier est : {extension}\")\n"
   ]
  },
  {
   "cell_type": "code",
   "execution_count": 11,
   "id": "71fed14c-6e27-470b-9c9b-bb301f66af36",
   "metadata": {},
   "outputs": [
    {
     "name": "stdin",
     "output_type": "stream",
     "text": [
      "Entrez un mot :  fiere\n"
     ]
    },
    {
     "name": "stdout",
     "output_type": "stream",
     "text": [
      "Le mot 'fiere' n'est pas un palindrome.\n"
     ]
    }
   ],
   "source": [
    "# Exercice 24\n",
    "\n",
    "\n",
    "mot = input(\"Entrez un mot : \")\n",
    "\n",
    "# Vérifier si le mot est un palindrome\n",
    "if mot == mot[::-1]:\n",
    "    print(f\"Le mot '{mot}' est un palindrome.\")\n",
    "else:\n",
    "    print(f\"Le mot '{mot}' n'est pas un palindrome.\")\n"
   ]
  },
  {
   "cell_type": "code",
   "execution_count": 15,
   "id": "b2737a12-5cb4-4527-b5d1-597873f6ae02",
   "metadata": {},
   "outputs": [
    {
     "name": "stdin",
     "output_type": "stream",
     "text": [
      "Entrez un mot :  rentrer\n"
     ]
    },
    {
     "name": "stdout",
     "output_type": "stream",
     "text": [
      "L'inverse du mot 'rentrer' est 'rertner'.\n"
     ]
    }
   ],
   "source": [
    "# Exercice 25\n",
    "\n",
    "mot = input(\"Entrez un mot : \")\n",
    "\n",
    "# Renverser le mot\n",
    "mot_inverse = mot[::-1]\n",
    "\n",
    "print(f\"L'inverse du mot '{mot}' est '{mot_inverse}'.\")\n",
    "\n"
   ]
  },
  {
   "cell_type": "code",
   "execution_count": 13,
   "id": "af2f7e49-5be8-4087-bc36-51a8e34e8e41",
   "metadata": {},
   "outputs": [
    {
     "name": "stdin",
     "output_type": "stream",
     "text": [
      "Entrez un texte :  amical des jeunes de bonepoupa\n"
     ]
    },
    {
     "name": "stdout",
     "output_type": "stream",
     "text": [
      "Les mots qui commencent par 'a' sont :\n",
      "amical\n"
     ]
    }
   ],
   "source": [
    "# Exercice 26\n",
    "\n",
    "\n",
    "texte = input(\"Entrez un texte : \")\n",
    "\n",
    "# Séparer le texte en mots\n",
    "mots = texte.split()\n",
    "\n",
    "# Filtrer les mots qui commencent par \"a\" (en minuscule ou majuscule)\n",
    "mots_avec_a = [mot for mot in mots if mot.lower().startswith('a')]\n",
    "\n",
    "if mots_avec_a:\n",
    "    print(\"Les mots qui commencent par 'a' sont :\")\n",
    "    for mot in mots_avec_a:\n",
    "        print(mot)\n",
    "else:\n",
    "    print(\"Aucun mot ne commence par 'a'.\")\n"
   ]
  },
  {
   "cell_type": "code",
   "execution_count": 19,
   "id": "7d9d570b-b763-414c-b0eb-39b26a88e8c0",
   "metadata": {},
   "outputs": [
    {
     "name": "stdout",
     "output_type": "stream",
     "text": [
      "La somme des éléments de la liste est : 118\n",
      "Le produit des éléments de la liste est : 674730\n"
     ]
    }
   ],
   "source": [
    "# Exercice 27\n",
    "\n",
    "def somme_liste(liste):\n",
    "    return sum(liste)\n",
    "\n",
    "def multiplication_liste(liste):\n",
    "    resultat = 1\n",
    "    for nombre in liste:\n",
    "        resultat *= nombre\n",
    "    return resultat\n",
    "\n",
    "nombres = [15, 7, 3, 42, 51]\n",
    "\n",
    "# Calcul de la somme\n",
    "somme = somme_liste(nombres)\n",
    "print(f\"La somme des éléments de la liste est : {somme}\")\n",
    "\n",
    "# Calcul du produit\n",
    "produit = multiplication_liste(nombres)\n",
    "print(f\"Le produit des éléments de la liste est : {produit}\")\n"
   ]
  },
  {
   "cell_type": "code",
   "execution_count": null,
   "id": "8f823eac-db67-4753-b31a-369dd954b72e",
   "metadata": {},
   "outputs": [],
   "source": [
    "# Exercice 28\n",
    "\n",
    "def test_liste_vide(liste):\n",
    "    if not liste:  # Si la liste est vide\n",
    "        print(\"La liste est vide.\")\n",
    "    else:\n",
    "        print(\"La liste n'est pas vide.\")\n",
    "\n",
    "# Fonction pour tester si une chaîne de caractères est vide ou non\n",
    "def test_chaine_vide(chaine):\n",
    "    if not chaine:  # Si la chaîne est vide\n",
    "        print(\"La chaîne est vide.\")\n",
    "    else:\n",
    "        print(\"La chaîne n'est pas vide.\")\n",
    "\n",
    "liste_exemple = []\n",
    "test_liste_vide(liste_exemple)  # Test pour une liste vide\n",
    "\n",
    "chaine_exemple = \"Python\"\n",
    "test_chaine_vide(chaine_exemple)  # Test pour une chaîne non vide\n"
   ]
  },
  {
   "cell_type": "code",
   "execution_count": 21,
   "id": "03ab372f-c401-4705-b81f-e25defc3599b",
   "metadata": {},
   "outputs": [
    {
     "name": "stdout",
     "output_type": "stream",
     "text": [
      "Liste sans doublons : [1, 2, 3, 4, 5, 6]\n"
     ]
    }
   ],
   "source": [
    "# Exercice 29\n",
    "\n",
    "\n",
    "def supprimer_doublons(liste):\n",
    "    # Utilisation de set pour supprimer les doublons (ne conserve que les éléments uniques)\n",
    "    return list(set(liste))\n",
    "\n",
    "liste_exemple = [1, 2, 3, 4, 3, 5, 2, 6, 1]\n",
    "\n",
    "# Suppression des doublons\n",
    "liste_sans_duplicates = supprimer_doublons(liste_exemple)\n",
    "\n",
    "print(\"Liste sans doublons :\", liste_sans_duplicates)\n"
   ]
  },
  {
   "cell_type": "code",
   "execution_count": null,
   "id": "06b58b52-b778-4b78-adf7-d4d9d62f89e5",
   "metadata": {},
   "outputs": [],
   "source": [
    "# Exercice 30\n",
    "\n",
    "def comparer_listes(liste1, liste2):\n",
    "    # Utilisation de l'intersection des ensembles pour trouver les valeurs communes\n",
    "    if set(liste1) & set(liste2):  # Intersection des ensembles\n",
    "        print(\"Les deux listes ont des valeurs communes.\")\n",
    "    else:\n",
    "        print(\"Les deux listes n'ont pas de valeurs communes.\")\n",
    "\n",
    "liste1 = [1, 2, 3, 4, 5]\n",
    "\n",
    "liste2 = [4, 5, 6, 7, 8]\n",
    "\n",
    "# Comparaison des deux listes\n",
    "comparer_listes(liste1, liste2)\n"
   ]
  },
  {
   "cell_type": "code",
   "execution_count": 23,
   "id": "3954a3b4-e677-42eb-b2c9-cbb5ca8fe062",
   "metadata": {},
   "outputs": [
    {
     "name": "stdout",
     "output_type": "stream",
     "text": [
      "Liste des nombres pairs : [2, 4, 6, 8, 10]\n",
      "Liste des nombres impairs : [1, 3, 5, 7, 9]\n"
     ]
    }
   ],
   "source": [
    "# Exercice 31\n",
    "\n",
    "# Fonction pour séparer les nombres pairs et impairs d'une liste\n",
    "def separer_paires_impaires(liste):\n",
    "    paires = []\n",
    "    impaires = []\n",
    "    \n",
    "    for nombre in liste:\n",
    "        if nombre % 2 == 0:\n",
    "            paires.append(nombre)\n",
    "        else:\n",
    "            impaires.append(nombre)\n",
    "    \n",
    "    return paires, impaires\n",
    "\n",
    "# Liste d'exemple de nombres\n",
    "liste_nombres = [1, 2, 3, 4, 5, 6, 7, 8, 9, 10]\n",
    "\n",
    "# Appel de la fonction\n",
    "nombres_paires, nombres_impaires = separer_paires_impaires(liste_nombres)\n",
    "\n",
    "print(\"Liste des nombres pairs :\", nombres_paires)\n",
    "print(\"Liste des nombres impairs :\", nombres_impaires)\n"
   ]
  },
  {
   "cell_type": "code",
   "execution_count": 25,
   "id": "f8bbf89d-fd49-4363-804a-ab76b6435901",
   "metadata": {},
   "outputs": [
    {
     "name": "stdout",
     "output_type": "stream",
     "text": [
      "Toutes les permutations possibles :\n",
      "(1, 2, 3)\n",
      "(1, 3, 2)\n",
      "(2, 1, 3)\n",
      "(2, 3, 1)\n",
      "(3, 1, 2)\n",
      "(3, 2, 1)\n"
     ]
    }
   ],
   "source": [
    "# Exercice 32\n",
    "\n",
    "from itertools import permutations\n",
    "\n",
    "# Fonction pour générer toutes les permutations d'une liste donnée\n",
    "def generer_permutations(liste):\n",
    "    return list(permutations(liste))\n",
    "\n",
    "liste_exemple = [1, 2, 3]\n",
    "\n",
    "# Génération de toutes les permutations\n",
    "toutes_permutations = generer_permutations(liste_exemple)\n",
    "\n",
    "print(\"Toutes les permutations possibles :\")\n",
    "for perm in toutes_permutations:\n",
    "    print(perm)\n"
   ]
  },
  {
   "cell_type": "code",
   "execution_count": 27,
   "id": "ecf75b0a-620e-4c5a-a1a1-ed8f44adb820",
   "metadata": {},
   "outputs": [
    {
     "name": "stdin",
     "output_type": "stream",
     "text": [
      "Entrez une chaîne de caractères :  bénévoles \n"
     ]
    },
    {
     "name": "stdout",
     "output_type": "stream",
     "text": [
      "Les caractères d'indices pairs sont : bnvls\n"
     ]
    }
   ],
   "source": [
    "# Exercice 33\n",
    "\n",
    "def extraire_caracteres_pairs(chaine):\n",
    "    return chaine[::2]  # Slicing pour récupérer les caractères d'indices pairs\n",
    "\n",
    "chaine = input(\"Entrez une chaîne de caractères : \")\n",
    "\n",
    "# Appel de la fonction et affichage du résultat\n",
    "caracteres_pairs = extraire_caracteres_pairs(chaine)\n",
    "print(\"Les caractères d'indices pairs sont :\", caracteres_pairs)\n"
   ]
  },
  {
   "cell_type": "code",
   "execution_count": 43,
   "id": "6953ef85-ecb2-42d7-92fc-feebdd9223fc",
   "metadata": {},
   "outputs": [
    {
     "name": "stdout",
     "output_type": "stream",
     "text": [
      "Liste des notes supérieures à 10 : [12, 14, 11, 18, 13, 10, 15, 14, 16]\n",
      "Liste des notes inférieures à 10 : [4, 7, 5, 9, 8]\n"
     ]
    }
   ],
   "source": [
    "# Exercice 34\n",
    "\n",
    "notes = [12,4,14,11,18,13,7,10,5,9,15,8,14,16]\n",
    "\n",
    "def extraire (note) :\n",
    "    Moyenne = []\n",
    "    Sous_Moyenne = []\n",
    "    \n",
    "    for note in notes :\n",
    "        if note >= 10 :\n",
    "            Moyenne.append(note)\n",
    "        else :\n",
    "            Sous_Moyenne.append(note)\n",
    "    return Moyenne, Sous_Moyenne\n",
    "    \n",
    "Supérieurs10, Inférieurs10 = extraire(notes)\n",
    "\n",
    "print(f\"Liste des notes supérieures à 10 : {Supérieurs10}\")\n",
    "print(f\"Liste des notes inférieures à 10 : {Inférieurs10}\")"
   ]
  },
  {
   "cell_type": "code",
   "execution_count": 45,
   "id": "f2bf4e78-e965-4f49-bda4-1266b357fd5b",
   "metadata": {},
   "outputs": [
    {
     "name": "stdin",
     "output_type": "stream",
     "text": [
      "Entrez une adresse URL :  Youtube.com\n"
     ]
    },
    {
     "name": "stdout",
     "output_type": "stream",
     "text": [
      "Le lien HTML est : <a href=\"Youtube.com\">Youtube.com</a>\n"
     ]
    }
   ],
   "source": [
    "# Exercice 35\n",
    "\n",
    "url = input(\"Entrez une adresse URL : \")\n",
    "\n",
    "# Transformation de l'URL en lien HTML\n",
    "lien_html = f'<a href=\"{url}\">{url}</a>'\n",
    "\n",
    "print(\"Le lien HTML est :\", lien_html)\n"
   ]
  },
  {
   "cell_type": "code",
   "execution_count": 47,
   "id": "9db142a0-7ca5-42eb-b108-96098cdf3a43",
   "metadata": {},
   "outputs": [
    {
     "name": "stdin",
     "output_type": "stream",
     "text": [
      "Entrez une chaîne de caractères avec des espaces multiples :  bonjour  ça va   ?\n"
     ]
    },
    {
     "name": "stdout",
     "output_type": "stream",
     "text": [
      "Texte sans espaces multiples : bonjour ça va ?\n"
     ]
    }
   ],
   "source": [
    "# Exercice 36\n",
    "\n",
    "texte = input(\"Entrez une chaîne de caractères avec des espaces multiples : \")\n",
    "\n",
    "# Suppression des espaces multiples\n",
    "texte_sans_espaces_multiples = \" \".join(texte.split())\n",
    "\n",
    "print(\"Texte sans espaces multiples :\", texte_sans_espaces_multiples)\n"
   ]
  },
  {
   "cell_type": "code",
   "execution_count": null,
   "id": "8dc9b9cc-cdc0-43e3-84ce-87666db6a15a",
   "metadata": {},
   "outputs": [],
   "source": [
    "# Exercice 37\n",
    "\n",
    "# Fonction pour trouver les mots communs entre deux chaînes\n",
    "def mots_communs(s1, s2):\n",
    "    # Séparer les mots des chaînes en utilisant split()\n",
    "    mots_s1 = set(s1.split())\n",
    "    mots_s2 = set(s2.split())\n",
    "    \n",
    "    # Trouver les mots communs entre les deux ensembles\n",
    "    communs = mots_s1.intersection(mots_s2)\n",
    "    \n",
    "    # Retourner les mots communs sous forme de liste\n",
    "    return list(communs)\n",
    "\n",
    "s1 = input(\"Entrez la première chaîne de caractères : \")\n",
    "s2 = input(\"Entrez la deuxième chaîne de caractères : \")\n",
    "\n",
    "resultat = mots_communs(s1, s2)\n",
    "\n",
    "print(\"Les mots communs sont :\", resultat)\n"
   ]
  },
  {
   "cell_type": "code",
   "execution_count": 53,
   "id": "25f60953-a280-48df-9da1-1b6a889e000d",
   "metadata": {},
   "outputs": [
    {
     "name": "stdin",
     "output_type": "stream",
     "text": [
      "Entrez votre chaine :  je vais en vaccances demain\n"
     ]
    },
    {
     "name": "stdout",
     "output_type": "stream",
     "text": [
      "Le plus long mot de la chaine 'je vais en vaccances demain' est : 'vaccances'\n"
     ]
    }
   ],
   "source": [
    "# Exercice 38\n",
    "\n",
    "chaine = input(\"Entrez votre chaine : \")\n",
    "\n",
    "# Fonction pour trouver le plus long mot\n",
    "def pluslong(chaine):\n",
    "    mots = chaine.split()  # Séparer la chaîne en mots\n",
    "    plus_long_mot = max(mots, key=len)  # Trouver le mot le plus long en fonction de sa longueur\n",
    "    return plus_long_mot\n",
    "\n",
    "mot_plus_long = pluslong(chaine)\n",
    "\n",
    "print(f\"Le plus long mot de la chaine '{chaine}' est : '{mot_plus_long}'\")\n"
   ]
  },
  {
   "cell_type": "code",
   "execution_count": null,
   "id": "48d509a1-715f-4efe-a3a8-e31882969d88",
   "metadata": {},
   "outputs": [],
   "source": [
    "# Exercice 39\n",
    "\n",
    "chaine = input(\"Entrez une chaîne de caractères : \")\n",
    "\n",
    "# Compter le nombre de mots en séparant la chaîne par les espaces\n",
    "def compter_mots(chaine):\n",
    "    mots = chaine.split()  # Divise la chaîne en mots\n",
    "    return len(mots)  # Compte le nombre de mots\n",
    "\n",
    "nombre_de_mots = compter_mots(chaine)\n",
    "\n",
    "print(f\"Le nombre de mots dans la chaîne est : {nombre_de_mots}\")\n"
   ]
  },
  {
   "cell_type": "code",
   "execution_count": null,
   "id": "f148cdb9-3121-4fc0-a134-aeea9763c8bc",
   "metadata": {},
   "outputs": [],
   "source": [
    "# Exercice 40\n",
    "\n",
    "chaine = input(\"Entrez une chaîne de caractères : \")\n",
    "\n",
    "def echanger_premier_dernier(chaine):\n",
    "    mots = chaine.split()  # Séparer la chaîne en mots\n",
    "    if len(mots) < 2:\n",
    "        return chaine  # Si la chaîne a un seul mot ou est vide, on la retourne telle quelle\n",
    "    # Échanger le premier et le dernier mot\n",
    "    mots[0], mots[-1] = mots[-1], mots[0]\n",
    "    # Reconstituer la chaîne avec les mots échangés\n",
    "    return \" \".join(mots)\n",
    "\n",
    "chaine_modifiee = echanger_premier_dernier(chaine)\n",
    "\n",
    "print(\"Chaîne après échange :\", chaine_modifiee)\n"
   ]
  },
  {
   "cell_type": "code",
   "execution_count": 3,
   "id": "1fee55a6-9589-443a-85d1-b0e1e4ca8efa",
   "metadata": {},
   "outputs": [
    {
     "name": "stdout",
     "output_type": "stream",
     "text": [
      "Le nombre d'éléments de la liste divisibles par 9 est : 0\n"
     ]
    }
   ],
   "source": [
    "# Exercice 41\n",
    "\n",
    "# Définir la fonction\n",
    "def nombresDivisibles(liste, n):\n",
    "   \n",
    "    if n == 0:  # Gestion de la division par zéro\n",
    "        raise ValueError(\"Le diviseur n ne peut pas être 0.\")\n",
    "    \n",
    "    return sum(1 for x in liste if x % n == 0)\n",
    "\n",
    "liste = [10, 15, 20, 25, 30, 35]\n",
    "n = 9\n",
    "resultat = nombresDivisibles(liste, n)\n",
    "\n",
    "print(f\"Le nombre d'éléments de la liste divisibles par {n} est : {resultat}\")\n"
   ]
  },
  {
   "cell_type": "code",
   "execution_count": 5,
   "id": "58e11e0c-dadd-48aa-bb79-1ff230eb1e10",
   "metadata": {},
   "outputs": [
    {
     "name": "stdout",
     "output_type": "stream",
     "text": [
      "L'élément 1 apparaît 3 fois dans la liste.\n"
     ]
    }
   ],
   "source": [
    "# Exercie 42\n",
    "\n",
    "def nombresOccurences(L, x):\n",
    "    \n",
    "    compteur = 0\n",
    "    for element in L:  # Parcourir la liste\n",
    "        if element == x:  # Comparer chaque élément à x\n",
    "            compteur += 1  # Incrémenter le compteur si égal\n",
    "    return compteur\n",
    "\n",
    "L = [1, 2, 3, 4, 1, 2, 1, 5]\n",
    "x = 1\n",
    "resultat = nombresOccurences(L, x)\n",
    "\n",
    "print(f\"L'élément {x} apparaît {resultat} fois dans la liste.\")\n"
   ]
  },
  {
   "cell_type": "code",
   "execution_count": 7,
   "id": "e5c2ae32-ee0b-4b7b-91f9-b92c4a701c42",
   "metadata": {},
   "outputs": [
    {
     "name": "stdin",
     "output_type": "stream",
     "text": [
      "Entrez une chaîne de caractères :  bonjour\n"
     ]
    },
    {
     "name": "stdout",
     "output_type": "stream",
     "text": [
      "Chaîne modifiée : b*o*n*j*o*u*r\n"
     ]
    }
   ],
   "source": [
    "# Exercice 43\n",
    "\n",
    "def insertEtoile(chaine):\n",
    "   \n",
    "    return \"*\".join(chaine)\n",
    "\n",
    "chaine = input(\"Entrez une chaîne de caractères : \")\n",
    "chaine_modifiee = insertEtoile(chaine)\n",
    "\n",
    "print(\"Chaîne modifiée :\", chaine_modifiee)\n"
   ]
  },
  {
   "cell_type": "code",
   "execution_count": 11,
   "id": "b47c3fac-7547-4620-8642-40ffe5ea603a",
   "metadata": {},
   "outputs": [
    {
     "name": "stdin",
     "output_type": "stream",
     "text": [
      "Entrez une chaîne de caractères :  je suis content aujourd'hui\n"
     ]
    },
    {
     "name": "stdout",
     "output_type": "stream",
     "text": [
      "Chaîne en majuscules : JE SUIS CONTENT AUJOURD'HUI\n"
     ]
    }
   ],
   "source": [
    "# Exercice 44\n",
    "\n",
    "def toutEnMajuscules(chaine):\n",
    " \n",
    "    return chaine.upper()\n",
    "\n",
    "chaine = input(\"Entrez une chaîne de caractères : \")\n",
    "chaine_majuscule = toutEnMajuscules(chaine)\n",
    "\n",
    "print(\"Chaîne en majuscules :\", chaine_majuscule)\n"
   ]
  },
  {
   "cell_type": "code",
   "execution_count": 17,
   "id": "4948a1fc-3cc7-4774-8afc-74eae49d942f",
   "metadata": {},
   "outputs": [
    {
     "name": "stdin",
     "output_type": "stream",
     "text": [
      "Entrez votre chaine de caractères :  Je suis Content\n"
     ]
    },
    {
     "name": "stdout",
     "output_type": "stream",
     "text": [
      "Le nombre de majuscules est 2 et le nombre de minuscules est 11\n"
     ]
    }
   ],
   "source": [
    "# Exercice 45\n",
    "\n",
    "def MajetMin(chaine):\n",
    "    \n",
    "    Majuscule = 0\n",
    "    Minuscule = 0\n",
    "\n",
    "    for caractere in chaine:\n",
    "        if caractere.isupper():\n",
    "            Majuscule += 1\n",
    "        elif caractere.islower():\n",
    "            Minuscule += 1\n",
    "\n",
    "    return Majuscule, Minuscule\n",
    "\n",
    "chaine = input(\"Entrez votre chaine de caractères : \")\n",
    "\n",
    "nb_majuscules, nb_minuscules = MajetMin(chaine)\n",
    "\n",
    "print(f\"Le nombre de majuscules est {nb_majuscules} et le nombre de minuscules est {nb_minuscules}\")\n"
   ]
  },
  {
   "cell_type": "code",
   "execution_count": null,
   "id": "3dd6c9b3-4b32-4d7d-a99a-f404db220384",
   "metadata": {},
   "outputs": [],
   "source": [
    "# Exercice 46\n",
    "\n",
    "def extraire_chiffres(nombre):\n",
    "    \n",
    "    chiffres = []\n",
    "    nombre = abs(nombre)  # Gérer les nombres négatifs\n",
    "    \n",
    "    # Extraire les chiffres par division et modulo\n",
    "    while nombre > 0:\n",
    "        chiffres.insert(0, nombre % 10)  # Ajouter chaque chiffre au début de la liste\n",
    "        nombre //= 10  # Réduire le nombre en divisant par 10\n",
    "    \n",
    "    return chiffres\n",
    "\n",
    "nombre = int(input(\"Entrez un nombre entier : \"))\n",
    "\n",
    "chiffres = extraire_chiffres(nombre)\n",
    "\n",
    "print(f\"Liste des chiffres du nombre {nombre} : {chiffres}\")\n"
   ]
  },
  {
   "cell_type": "code",
   "execution_count": 21,
   "id": "84b35b5b-51ea-4070-84a6-96dade67b727",
   "metadata": {},
   "outputs": [
    {
     "name": "stdin",
     "output_type": "stream",
     "text": [
      "Entrez le premier texte :  nous sommes lundi\n",
      "Entrez le deuxième texte :  nous sommes samedi\n"
     ]
    },
    {
     "name": "stdout",
     "output_type": "stream",
     "text": [
      "Les mots communs aux deux textes sont : ['sommes', 'nous']\n"
     ]
    }
   ],
   "source": [
    "# Exercice 47\n",
    "\n",
    "def mots_communs(texte1, texte2):\n",
    "   \n",
    "    # Diviser les textes en listes de mots\n",
    "    mots1 = set(texte1.split())  # Utilisation de set pour éviter les doublons\n",
    "    mots2 = set(texte2.split())\n",
    "    \n",
    "    # Trouver les mots communs\n",
    "    communs = list(mots1 & mots2)  # Intersection des ensembles\n",
    "    \n",
    "    return communs\n",
    "\n",
    "texte1 = input(\"Entrez le premier texte : \")\n",
    "texte2 = input(\"Entrez le deuxième texte : \")\n",
    "\n",
    "resultat = mots_communs(texte1, texte2)\n",
    "print(f\"Les mots communs aux deux textes sont : {resultat}\")\n"
   ]
  },
  {
   "cell_type": "code",
   "execution_count": null,
   "id": "e2a37bda-9cac-4d4f-94c9-8db70bff687b",
   "metadata": {},
   "outputs": [],
   "source": []
  }
 ],
 "metadata": {
  "kernelspec": {
   "display_name": "Python 3 (ipykernel)",
   "language": "python",
   "name": "python3"
  },
  "language_info": {
   "codemirror_mode": {
    "name": "ipython",
    "version": 3
   },
   "file_extension": ".py",
   "mimetype": "text/x-python",
   "name": "python",
   "nbconvert_exporter": "python",
   "pygments_lexer": "ipython3",
   "version": "3.12.7"
  }
 },
 "nbformat": 4,
 "nbformat_minor": 5
}
